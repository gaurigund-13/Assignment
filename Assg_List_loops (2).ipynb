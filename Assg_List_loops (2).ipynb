{
 "cells": [
  {
   "cell_type": "raw",
   "id": "fa0ee46d",
   "metadata": {},
   "source": [
    "Scenario 1:\n",
    "User enters a number:\n",
    "options: \n",
    "1 --> original\n",
    "2 --> square\n",
    "3 --> Cube"
   ]
  },
  {
   "cell_type": "code",
   "execution_count": 5,
   "id": "2056c0b4",
   "metadata": {},
   "outputs": [
    {
     "name": "stdout",
     "output_type": "stream",
     "text": [
      "Enter number : 4\n",
      "Original number = 4\n",
      "\n",
      "square of number = 16\n",
      "\n",
      "Cube of number = 64\n"
     ]
    }
   ],
   "source": [
    "num = int(input(\"Enter number : \"))\n",
    "print(\"Original number = {0}\\n\\nsquare of number = {1}\\n\\nCube of number = {2}\".format(num,(num*num),(num**3)))"
   ]
  },
  {
   "cell_type": "raw",
   "id": "5984fe2d",
   "metadata": {},
   "source": [
    "Scenario 2:\n",
    "A = [17,19,21,31,91,76,45,26,91]\n",
    "squares = []\n",
    "cubes = []"
   ]
  },
  {
   "cell_type": "code",
   "execution_count": 1,
   "id": "1e1245a6",
   "metadata": {},
   "outputs": [
    {
     "name": "stdout",
     "output_type": "stream",
     "text": [
      "Squares of the list =  [289, 361, 441, 961, 8281, 5776, 2025, 676, 8281]\n",
      "Cube of the list =  [4913, 6859, 9261, 29791, 753571, 438976, 91125, 17576, 753571]\n"
     ]
    }
   ],
   "source": [
    "A = [17,19,21,31,91,76,45,26,91]\n",
    "squares = []\n",
    "cubes = []\n",
    "for i in A:\n",
    "    squares.append(i*i)\n",
    "    cubes.append(i**3)\n",
    "print(\"Squares of the list = \",squares)\n",
    "print(\"Cube of the list = \",cubes)"
   ]
  },
  {
   "cell_type": "raw",
   "id": "9a3b45ff",
   "metadata": {},
   "source": [
    "Scenario 3:\n",
    "A = [17,19,21,31,91,76,45,26,91]\n",
    "even = []\n",
    "odd = []"
   ]
  },
  {
   "cell_type": "code",
   "execution_count": 2,
   "id": "58b2236d",
   "metadata": {},
   "outputs": [
    {
     "name": "stdout",
     "output_type": "stream",
     "text": [
      "List of even =  [76, 26]\n",
      "List of odd =  [17, 19, 21, 31, 91, 45, 91]\n"
     ]
    }
   ],
   "source": [
    "A = [17,19,21,31,91,76,45,26,91]\n",
    "even = []\n",
    "odd = []\n",
    "for i in A:\n",
    "    if(i%2 == 0):\n",
    "        even.append(i)\n",
    "    else:\n",
    "        odd.append(i)\n",
    "print(\"List of even = \",even)\n",
    "print(\"List of odd = \",odd)"
   ]
  },
  {
   "cell_type": "raw",
   "id": "6a867720",
   "metadata": {},
   "source": [
    "Scenario 4:\n",
    "A = [17,19,21,31,91,76,45,26,91]\n",
    "B = []\n",
    "Find out squares of first 5 numbers and cubes of the remaining numbers from the list A."
   ]
  },
  {
   "cell_type": "code",
   "execution_count": 3,
   "id": "5801d808",
   "metadata": {},
   "outputs": [],
   "source": [
    "A = [17,19,21,31,91,76,45,26,91]\n",
    "B = []\n",
    "for i,num in enumerate(A):\n",
    "    if(i<5):\n",
    "        B.append(num*num)\n",
    "    else:\n",
    "        B.append(num**3)"
   ]
  },
  {
   "cell_type": "code",
   "execution_count": 4,
   "id": "c80f2a8a",
   "metadata": {},
   "outputs": [
    {
     "data": {
      "text/plain": [
       "[289, 361, 441, 961, 8281, 438976, 91125, 17576, 753571]"
      ]
     },
     "execution_count": 4,
     "metadata": {},
     "output_type": "execute_result"
    }
   ],
   "source": [
    "B"
   ]
  },
  {
   "cell_type": "code",
   "execution_count": null,
   "id": "e7b1ed08",
   "metadata": {},
   "outputs": [],
   "source": []
  }
 ],
 "metadata": {
  "kernelspec": {
   "display_name": "Python 3 (ipykernel)",
   "language": "python",
   "name": "python3"
  },
  "language_info": {
   "codemirror_mode": {
    "name": "ipython",
    "version": 3
   },
   "file_extension": ".py",
   "mimetype": "text/x-python",
   "name": "python",
   "nbconvert_exporter": "python",
   "pygments_lexer": "ipython3",
   "version": "3.11.1"
  }
 },
 "nbformat": 4,
 "nbformat_minor": 5
}
